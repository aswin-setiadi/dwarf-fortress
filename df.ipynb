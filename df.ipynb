{
 "cells": [
  {
   "cell_type": "code",
   "execution_count": 3,
   "metadata": {},
   "outputs": [],
   "source": [
    "import requests\n",
    "from bs4 import BeautifulSoup\n",
    "\n",
    "URL= \"https://dwarffortresswiki.org/index.php/Personality_trait\"\n",
    "page= requests.get(URL)\n",
    "#print(page.text)\n",
    "soup= BeautifulSoup(page.content, \"html.parser\")\n",
    "results= soup.find_all(\"table\", {\"class\":\"wikitable\"})\n",
    "\n"
   ]
  },
  {
   "cell_type": "code",
   "execution_count": null,
   "metadata": {},
   "outputs": [],
   "source": [
    "belief_val_ranges, beliefs, goals,facets_val_ranges, facets= results\n",
    "\n",
    "# table-> tbody-> tr\n",
    "trs= beliefs.find_all(\"tr\")\n",
    "#skip table header\n",
    "for tr in trs[1:]:\n",
    "    for e in tr:\n",
    "        if e.name==\"th\":\n",
    "            a= e.find(\"a\")\n",
    "            print(a.text.strip())\n",
    "        elif e.name==\"td\":\n",
    "            print(e.text.strip())"
   ]
  },
  {
   "cell_type": "code",
   "execution_count": 1,
   "metadata": {},
   "outputs": [
    {
     "name": "stdout",
     "output_type": "stream",
     "text": [
      "Child.Kakak\n",
      "<enum 'Child'>\n",
      "False\n"
     ]
    }
   ],
   "source": [
    "from enum import Enum\n",
    "\n",
    "class Parent:\n",
    "    Papa=1\n",
    "    Mama=2\n",
    "\n",
    "class Child(Parent,Enum):\n",
    "    Kakak=1\n",
    "    Adik=2\n",
    "\n",
    "print(Child.Kakak) # Child.Kakak\n",
    "print(type(Child.Kakak)) # <enum 'Child'>\n",
    "print(isinstance(Child,Parent)) # False"
   ]
  }
 ],
 "metadata": {
  "kernelspec": {
   "display_name": ".venv",
   "language": "python",
   "name": "python3"
  },
  "language_info": {
   "codemirror_mode": {
    "name": "ipython",
    "version": 3
   },
   "file_extension": ".py",
   "mimetype": "text/x-python",
   "name": "python",
   "nbconvert_exporter": "python",
   "pygments_lexer": "ipython3",
   "version": "3.11.5"
  },
  "orig_nbformat": 4
 },
 "nbformat": 4,
 "nbformat_minor": 2
}
